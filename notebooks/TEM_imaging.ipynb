{
 "cells": [
  {
   "cell_type": "markdown",
   "id": "43989778-1e53-41ff-8eb2-0a8eda0396e0",
   "metadata": {},
   "source": [
    "# STO BF/DF TEM\n",
    "> Stephanie Ribet | 26 July 2024\n",
    "\n",
    "> Structure from George Varnavides"
   ]
  },
  {
   "cell_type": "markdown",
   "id": "b21a4a21-704b-4211-b054-249fad051ed4",
   "metadata": {},
   "source": [
    "### Imports"
   ]
  },
  {
   "cell_type": "code",
   "execution_count": 1,
   "id": "ea2caf65-58e9-43b2-987b-0d740a55317d",
   "metadata": {},
   "outputs": [],
   "source": [
    "#| label: app:tem_imaging\n",
    "\n",
    "%matplotlib widget\n",
    "\n",
    "\n",
    "import ase\n",
    "import abtem\n",
    "\n",
    "import matplotlib.pyplot as plt\n",
    "import numpy as np\n",
    "from scipy.spatial import Voronoi, voronoi_plot_2d, cKDTree\n",
    "\n",
    "from matplotlib.patches import Circle\n",
    "from ipywidgets import HBox, VBox, widgets, interact, Dropdown, Label, Layout\n"
   ]
  },
  {
   "cell_type": "markdown",
   "id": "2ee3a8e9-5dcb-4eb3-852c-17364c40b44f",
   "metadata": {},
   "source": [
    "### Atomic Model"
   ]
  },
  {
   "cell_type": "code",
   "execution_count": 2,
   "id": "8426333c-d25d-4fec-89cd-3b7d8832186c",
   "metadata": {},
   "outputs": [],
   "source": [
    "STO_unit_cell   = ase.io.read('data/SrTiO3.cif')\n",
    "STO_atoms       = ase.build.surface(STO_unit_cell, (1,1,0), 4, periodic=True)*(8*4,12*4,4)"
   ]
  },
  {
   "cell_type": "code",
   "execution_count": 3,
   "id": "7dd8a0b0-0ebc-4268-83a5-b577237344d9",
   "metadata": {},
   "outputs": [
    {
     "data": {
      "text/plain": [
       "Cell([178.53620324239898, 189.36624, 44.634050810599746])"
      ]
     },
     "execution_count": 3,
     "metadata": {},
     "output_type": "execute_result"
    }
   ],
   "source": [
    "STO_atoms.cell"
   ]
  },
  {
   "cell_type": "code",
   "execution_count": 4,
   "id": "b949df4c-c2cf-40a3-b770-822ade89b3b2",
   "metadata": {
    "scrolled": true
   },
   "outputs": [],
   "source": [
    "np.random.seed(111111)\n",
    "points = np.random.rand(8,2)\n",
    "points = np.vstack((points,np.array([[0,0],[0,1],[1,0],[1,1]])))\n",
    "points[:,0] *= STO_atoms.cell[0,0]/2\n",
    "points[:,1] *= STO_atoms.cell[1,1]/2\n",
    "points[:,0] += STO_atoms.cell[0,0]/4\n",
    "points[:,1] += STO_atoms.cell[1,1]/4\n",
    "\n",
    "voronoi = Voronoi(points)\n",
    "voronoi_kdtree = cKDTree(points)\n",
    "\n",
    "grains = ase.Atoms(cell=STO_atoms.cell,pbc=True)\n",
    "\n",
    "np.random.seed(111111)\n",
    "random_angles = np.random.rand(8)*180-90\n",
    "\n",
    "for grain in range(12):\n",
    "    STO_atoms_rotated = STO_atoms.copy()\n",
    "    angle = np.random.choice(random_angles)\n",
    "    #print(f\"{grain=}, {angle=:.3}\")\n",
    "    STO_atoms_rotated.rotate(\n",
    "        angle,\n",
    "        (0,0,1),\n",
    "        center=STO_atoms.cell.lengths()/2\n",
    "    )\n",
    "    _, reg = voronoi_kdtree.query(STO_atoms_rotated.positions[:,:2])\n",
    "    del STO_atoms_rotated[np.invert(reg==grain)]\n",
    "\n",
    "    grains+=STO_atoms_rotated\n",
    "\n",
    "del grains[grains.positions[:,0]<STO_atoms.cell[0,0]/4]\n",
    "del grains[grains.positions[:,0]>3*STO_atoms.cell[0,0]/4]\n",
    "del grains[grains.positions[:,1]<STO_atoms.cell[1,1]/4]\n",
    "del grains[grains.positions[:,1]>3*STO_atoms.cell[1,1]/4]\n",
    "\n",
    "grains.cell[0,0] = grains.cell[1,1] = 80\n",
    "grains.center(axis=(0,1), vacuum = 20)\n",
    "\n",
    "# abtem.show_atoms(grains);"
   ]
  },
  {
   "cell_type": "markdown",
   "id": "96180a36-50f5-4f92-a4bb-1298f2b8b34b",
   "metadata": {},
   "source": [
    "### abTEM potential and wave"
   ]
  },
  {
   "cell_type": "code",
   "execution_count": 5,
   "id": "73834767-d40d-4c14-bf35-8fb66c88b862",
   "metadata": {},
   "outputs": [],
   "source": [
    "potential = abtem.Potential(\n",
    "    grains,\n",
    "    gpts=(512,512),\n",
    "    device='cpu',\n",
    "    projection='infinite',\n",
    "    parametrization='kirkland'\n",
    ").build()\n",
    "\n",
    "wave = abtem.PlaneWave(energy=300e3)"
   ]
  },
  {
   "cell_type": "markdown",
   "id": "8c3ea076-b346-4e49-9122-36de7b62b4b6",
   "metadata": {},
   "source": [
    "#### "
   ]
  },
  {
   "cell_type": "markdown",
   "id": "dcd11e3f-e68c-43f4-aaf4-b5427d21492c",
   "metadata": {},
   "source": [
    "### TEM Simulation"
   ]
  },
  {
   "cell_type": "code",
   "execution_count": 6,
   "id": "4aceff97-684d-4288-b2d7-b051679b72b5",
   "metadata": {},
   "outputs": [],
   "source": [
    "exit_wave = wave.multislice(potential)"
   ]
  },
  {
   "cell_type": "code",
   "execution_count": 7,
   "id": "30ecb602-7b65-4ab9-9c08-d9e0ccbb46ec",
   "metadata": {},
   "outputs": [
    {
     "name": "stdout",
     "output_type": "stream",
     "text": [
      "[########################################] | 100% Completed | 2.30 ss\n"
     ]
    },
    {
     "data": {
      "text/plain": [
       "<abtem.waves.Waves at 0x17c0de7b0>"
      ]
     },
     "execution_count": 7,
     "metadata": {},
     "output_type": "execute_result"
    }
   ],
   "source": [
    "exit_wave.compute()"
   ]
  },
  {
   "cell_type": "code",
   "execution_count": 8,
   "id": "560d0d60-361c-4a71-a7f2-0a73ad0c8ba1",
   "metadata": {},
   "outputs": [],
   "source": [
    "def return_scaled_histogram_ordering(array, vmin=None, vmax=None, normalize=False):\n",
    "    \"\"\"\n",
    "    Utility function for calculating min and max values for plotting array\n",
    "    based on distribution of pixel values\n",
    "\n",
    "    Parameters\n",
    "    ----------\n",
    "    array: np.array\n",
    "        array to be plotted\n",
    "    vmin: float\n",
    "        lower fraction cut off of pixel values\n",
    "    vmax: float\n",
    "        upper fraction cut off of pixel values\n",
    "    normalize: bool\n",
    "        if True, rescales from 0 to 1\n",
    "\n",
    "    Returns\n",
    "    ----------\n",
    "    scaled_array: np.array\n",
    "        array clipped outside vmin and vmax\n",
    "    vmin: float\n",
    "        lower value to be plotted\n",
    "    vmax: float\n",
    "        upper value to be plotted\n",
    "    \"\"\"\n",
    "\n",
    "    if vmin is None:\n",
    "        vmin = 0.02\n",
    "    if vmax is None:\n",
    "        vmax = 0.98\n",
    "\n",
    "    vals = np.sort(array.ravel())\n",
    "    ind_vmin = np.round((vals.shape[0] - 1) * vmin).astype(\"int\")\n",
    "    ind_vmax = np.round((vals.shape[0] - 1) * vmax).astype(\"int\")\n",
    "    ind_vmin = np.max([0, ind_vmin])\n",
    "    ind_vmax = np.min([len(vals) - 1, ind_vmax])\n",
    "    vmin = vals[ind_vmin]\n",
    "    vmax = vals[ind_vmax]\n",
    "\n",
    "    if vmax == vmin:\n",
    "        vmin = vals[0]\n",
    "        vmax = vals[-1]\n",
    "\n",
    "    scaled_array = array.copy()\n",
    "    scaled_array = np.where(scaled_array < vmin, vmin, scaled_array)\n",
    "    scaled_array = np.where(scaled_array > vmax, vmax, scaled_array)\n",
    "\n",
    "    if normalize:\n",
    "        scaled_array -= scaled_array.min()\n",
    "        scaled_array /= scaled_array.max()\n",
    "        vmin = 0\n",
    "        vmax = 1\n",
    "\n",
    "    return scaled_array, vmin, vmax"
   ]
  },
  {
   "cell_type": "code",
   "execution_count": 9,
   "id": "56a07873-35e9-4519-9db4-edd7db32cc82",
   "metadata": {},
   "outputs": [],
   "source": [
    "exit_wave_array = exit_wave.array[80:-80,80:-80]\n",
    "s = exit_wave_array.shape\n",
    "x = np.fft.fftfreq(s[0], 1/s[0])\n",
    "y = np.fft.fftfreq(s[1], 1/s[1])\n",
    "\n",
    "yy, xx = np.meshgrid(x, y)\n"
   ]
  },
  {
   "cell_type": "code",
   "execution_count": 10,
   "id": "fd12f232-8f93-4cbf-b1c6-b983e0210dbf",
   "metadata": {},
   "outputs": [
    {
     "data": {
      "application/vnd.jupyter.widget-view+json": {
       "model_id": "b48f69644adc45828bde303cad98dcda",
       "version_major": 2,
       "version_minor": 0
      },
      "text/plain": [
       "VBox(children=(Canvas(footer_visible=False, header_visible=False, layout=Layout(height='400px', width='675px')…"
      ]
     },
     "metadata": {},
     "output_type": "display_data"
    }
   ],
   "source": [
    "with plt.ioff():\n",
    "    dpi = 72\n",
    "    fig, axs = plt.subplots(1,2, figsize=(675/dpi, 400/dpi), dpi=dpi)\n",
    "\n",
    "#plot FFT\n",
    "w0 = np.hanning(s[1]) * np.hanning(s[0])[:, None]\n",
    "axs[0].imshow(\n",
    "    return_scaled_histogram_ordering(\n",
    "        np.fft.fftshift(\n",
    "            np.abs(\n",
    "                np.fft.fft2(\n",
    "                    exit_wave_array * w0\n",
    "                )\n",
    "            )\n",
    "        )\n",
    "    )[0],\n",
    "    cmap = \"gray\"\n",
    ")\n",
    "\n",
    "\n",
    "#make mask\n",
    "radius = 35\n",
    "x0, y0 = 0,0\n",
    "\n",
    "mask = np.zeros(s)\n",
    "mask[(xx-x0)**2 + (yy-y0) **2 < radius**2] = 1\n",
    "    \n",
    "# add circles \n",
    "circle = Circle((\n",
    "    y0+s[0]/2, x0 + s[0]/2\n",
    "), radius, fill = False, color = \"red\", linewidth = 5)\n",
    "\n",
    "axs[0].add_patch(circle)\n",
    "\n",
    "\n",
    "#plot image\n",
    "axs[1].imshow(\n",
    "    return_scaled_histogram_ordering(np.abs(np.fft.ifft2((np.fft.fft2(exit_wave_array) * mask))))[0],\n",
    "    cmap = \"gray\",\n",
    "    \n",
    ")\n",
    "\n",
    "axs[0].set_xticks([])\n",
    "axs[0].set_yticks([])\n",
    "\n",
    "axs[1].set_xticks([])\n",
    "axs[1].set_yticks([])\n",
    "\n",
    "\n",
    "axs[0].set_title('diffraction plane')\n",
    "axs[1].set_title('imaging plane')\n",
    "\n",
    "\n",
    "# interact\n",
    "def update_ims(x0, y0, radius):\n",
    "    mask = np.zeros(s)\n",
    "    mask[(xx-x0)**2 + (yy-y0) **2 < radius**2] = 1\n",
    "    mask[s[0]//2-1:s[0]//2+1, s[1]//2-1:s[1]//2+1] = 1\n",
    "    \n",
    "    axs[0].clear()\n",
    "    axs[0].imshow(\n",
    "        return_scaled_histogram_ordering(\n",
    "            np.fft.fftshift(\n",
    "                np.abs(\n",
    "                    np.fft.fft2(\n",
    "                        exit_wave_array\n",
    "                    )\n",
    "                )\n",
    "            )\n",
    "        )[0],\n",
    "        cmap = \"gray\"\n",
    "    )\n",
    "\n",
    "    circle = Circle((\n",
    "       x0 + s[0]/2, y0 + s[0]/2\n",
    "    ), radius, fill = False, color = \"red\", linewidth = 5)\n",
    "    \n",
    "    axs[0].add_patch(circle)\n",
    "    \n",
    "    axs[0].set_xticks([])\n",
    "    axs[0].set_yticks([])\n",
    "\n",
    "    axs[0].set_title('diffraction plane')\n",
    "\n",
    "    axs[1].imshow(\n",
    "        return_scaled_histogram_ordering(np.abs(np.fft.ifft2((np.fft.fft2(exit_wave_array) * mask))))[0],\n",
    "        cmap = \"gray\",\n",
    "        \n",
    "    )\n",
    "    plt.tight_layout()    \n",
    "    fig.canvas.draw_idle()\n",
    "\n",
    "style = {\n",
    "    'description_width': 'initial',\n",
    "}\n",
    "\n",
    "layout = Layout(width='250px',height='30px')\n",
    "\n",
    "x0 = widgets.IntSlider(\n",
    "    value = 0, min = -s[0]/2, max = s[0]/2, \n",
    "    step = 10,\n",
    "    description = \"x position\",\n",
    "    style = style,\n",
    "    layout = layout,\n",
    ")\n",
    "\n",
    "\n",
    "y0 = widgets.IntSlider(\n",
    "    value = 0, min = -s[0]/2, max = s[0]/2, \n",
    "    step = 10,\n",
    "    description = \"y position\",\n",
    "    style = style,\n",
    "    layout = layout,\n",
    ")\n",
    "\n",
    "\n",
    "radius = widgets.IntSlider(\n",
    "    value = 30, min = 0, max = 100,\n",
    "    step = 5,\n",
    "    description = \"aperature radius\",\n",
    "    style = style,\n",
    "    layout = layout,\n",
    ")\n",
    "\n",
    "widgets.interactive_output(\n",
    "    update_ims, \n",
    "    {\n",
    "        'x0':x0,\n",
    "        'y0':y0,\n",
    "        'radius':radius,\n",
    "    },\n",
    ")\n",
    "\n",
    "\n",
    "\n",
    "\n",
    "fig.canvas.resizable = False\n",
    "fig.canvas.header_visible = False\n",
    "fig.canvas.footer_visible = False\n",
    "fig.canvas.toolbar_visible = True\n",
    "fig.canvas.layout.width = '675px'\n",
    "fig.canvas.layout.height = '400px'\n",
    "fig.canvas.toolbar_position = 'bottom'\n",
    "\n",
    "widget = widgets.VBox(\n",
    "    [\n",
    "        fig.canvas,\n",
    "        # VBox(\n",
    "            HBox(\n",
    "                [x0,y0,radius]\n",
    "            )\n",
    "        # ),\n",
    "    ],\n",
    ")\n",
    "\n",
    "display(widget);\n",
    "#\n",
    "\n",
    "# plt.show()"
   ]
  },
  {
   "cell_type": "code",
   "execution_count": null,
   "id": "e23e1caa-d087-492c-b58c-2c0cd05cbf53",
   "metadata": {},
   "outputs": [],
   "source": []
  }
 ],
 "metadata": {
  "kernelspec": {
   "display_name": "Python 3 (ipykernel)",
   "language": "python",
   "name": "python3"
  },
  "language_info": {
   "codemirror_mode": {
    "name": "ipython",
    "version": 3
   },
   "file_extension": ".py",
   "mimetype": "text/x-python",
   "name": "python",
   "nbconvert_exporter": "python",
   "pygments_lexer": "ipython3",
   "version": "3.12.4"
  }
 },
 "nbformat": 4,
 "nbformat_minor": 5
}
