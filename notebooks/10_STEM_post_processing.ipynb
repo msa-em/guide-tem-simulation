{
 "cells": [
  {
   "cell_type": "markdown",
   "id": "4e05c48d-a101-4670-bd06-aa261a12532f",
   "metadata": {},
   "source": [
    "---\n",
    "title: STEM post processing\n",
    "authors: [Toma Susi]\n",
    "date: 2024/07/24\n",
    "---"
   ]
  },
  {
   "cell_type": "code",
   "execution_count": 2,
   "id": "744695c6-083f-486e-a6fb-7cb959c49637",
   "metadata": {},
   "outputs": [],
   "source": [
    "%matplotlib ipympl\n",
    "import abtem\n",
    "\n",
    "\n",
    "abtem.config.set({\"visualize.cmap\": \"viridis\"})\n",
    "abtem.config.set({\"visualize.continuous_update\": True})\n",
    "abtem.config.set({\"visualize.autoscale\": True})\n",
    "\n",
    "all_measurements = abtem.from_zarr(\"data/processed_STEM.zarr\")"
   ]
  },
  {
   "cell_type": "code",
   "execution_count": 12,
   "id": "3e3d8994-459e-49d8-ab1e-c8ca2efab8f2",
   "metadata": {},
   "outputs": [
    {
     "name": "stdout",
     "output_type": "stream",
     "text": [
      "[########################################] | 100% Completed | 103.55 ms\n"
     ]
    },
    {
     "data": {
      "application/vnd.jupyter.widget-view+json": {
       "model_id": "aebe6b1c6e0c4bf2afe222d85edb8b16",
       "version_major": 2,
       "version_minor": 0
      },
      "text/plain": [
       "ImageGUI(children=(VBox(children=(SelectionSlider(options=('Nyquist-sampled', 'Interpolated', 'Blurred', 'Nois…"
      ]
     },
     "metadata": {},
     "output_type": "display_data"
    }
   ],
   "source": [
    "#| label: app:stem_processing\n",
    "viz = all_measurements.show(interact=True, explode=(1,), figsize=(5,5))"
   ]
  },
  {
   "cell_type": "code",
   "execution_count": null,
   "id": "44381286-90b4-4570-9144-01ca47d653b8",
   "metadata": {},
   "outputs": [],
   "source": []
  }
 ],
 "metadata": {
  "kernelspec": {
   "display_name": "Python 3 (ipykernel)",
   "language": "python",
   "name": "python3"
  },
  "language_info": {
   "codemirror_mode": {
    "name": "ipython",
    "version": 3
   },
   "file_extension": ".py",
   "mimetype": "text/x-python",
   "name": "python",
   "nbconvert_exporter": "python",
   "pygments_lexer": "ipython3",
   "version": "3.11.9"
  }
 },
 "nbformat": 4,
 "nbformat_minor": 5
}
