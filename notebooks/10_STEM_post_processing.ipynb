{
 "cells": [
  {
   "cell_type": "markdown",
   "id": "4e05c48d-a101-4670-bd06-aa261a12532f",
   "metadata": {},
   "source": [
    "---\n",
    "title: STEM post processing\n",
    "authors: [Toma Susi]\n",
    "date: 2024/07/24\n",
    "---"
   ]
  },
  {
   "cell_type": "code",
   "execution_count": null,
   "id": "2ffd8bad-37bd-4c78-88a2-0732409ce31a",
   "metadata": {},
   "outputs": [],
   "source": [
    "import abtem\n",
    "stacked_measurements = abtem.from_zarr(\"data/STO_LTO_STEM.zarr\").compute()"
   ]
  },
  {
   "cell_type": "code",
   "execution_count": null,
   "id": "9c47f158-5b5b-468b-b7c0-cb7ab8598ad6",
   "metadata": {},
   "outputs": [],
   "source": [
    "interpolated_measurements = stacked_measurements.interpolate(0.05)\n",
    "\n",
    "interpolated_measurements.show(explode=True);"
   ]
  },
  {
   "cell_type": "code",
   "execution_count": null,
   "id": "41f18f3c-fe90-431d-b100-4423b16a4b66",
   "metadata": {},
   "outputs": [],
   "source": [
    "blurred_measurements = interpolated_measurements.gaussian_filter(0.35)\n",
    "\n",
    "blurred_measurements.show(explode=True);"
   ]
  },
  {
   "cell_type": "code",
   "execution_count": null,
   "id": "9448b6ea-f247-4c09-8171-c69f4e68f451",
   "metadata": {},
   "outputs": [],
   "source": [
    "noisy_measurements = blurred_measurements.poisson_noise(dose_per_area=1e5, seed=100)\n",
    "\n",
    "noisy_measurements.show(explode=True, figsize=(12, 4));"
   ]
  },
  {
   "cell_type": "code",
   "execution_count": null,
   "id": "cb4251ff-cf1e-4ebe-ba67-244a0b145308",
   "metadata": {},
   "outputs": [],
   "source": [
    "processed_measurements = abtem.stack([interpolated_measurements, blurred_measurements, noisy_measurements],\n",
    "                               (\"Interpolated\", \"Blurred\", \"Noised\"))"
   ]
  },
  {
   "cell_type": "code",
   "execution_count": null,
   "id": "6e967555-f69b-4721-82dd-92c61ffe9769",
   "metadata": {},
   "outputs": [],
   "source": [
    "from scipy.ndimage import zoom\n",
    "\n",
    "scalex = interpolated_measurements[0].shape[0]/stacked_measurements[0].array.shape[0]\n",
    "scaley = interpolated_measurements[1].shape[1]/stacked_measurements[0].array.shape[1]\n",
    "\n",
    "zoomed0 = zoom(stacked_measurements[0].array, (scalex, scaley), order=0)\n",
    "zoomed1 = zoom(stacked_measurements[1].array, (scalex, scaley), order=0)\n",
    "zoomed2 = zoom(stacked_measurements[2].array, (scalex, scaley), order=0)"
   ]
  },
  {
   "cell_type": "code",
   "execution_count": null,
   "id": "015cb6d8-b082-413f-81b7-8fd1c8d18616",
   "metadata": {},
   "outputs": [],
   "source": [
    "from abtem import Images\n",
    "\n",
    "image0 = Images(zoomed0, sampling = interpolated_measurements[0].sampling)\n",
    "image1 = Images(zoomed1, sampling = interpolated_measurements[1].sampling)\n",
    "image2 = Images(zoomed2, sampling = interpolated_measurements[2].sampling)\n",
    "\n",
    "zoomed_measurements = abtem.stack([image0, image1, image2], (\"BF\", \"MAADF\", \"HAADF\"))"
   ]
  },
  {
   "cell_type": "code",
   "execution_count": null,
   "id": "18b32105-3adc-4fbb-b956-58c5f3995c3b",
   "metadata": {},
   "outputs": [],
   "source": [
    "all_measurements = abtem.stack([zoomed_measurements, interpolated_measurements, blurred_measurements, noisy_measurements],\n",
    "                               (\"Nyquist-sampled\", \"Interpolated\", \"Blurred\", \"Noised\"))\n",
    "\n",
    "all_measurements.to_zarr(\"data/processed_STEM.zarr\")"
   ]
  },
  {
   "cell_type": "code",
   "execution_count": 2,
   "id": "744695c6-083f-486e-a6fb-7cb959c49637",
   "metadata": {},
   "outputs": [],
   "source": [
    "%matplotlib ipympl\n",
    "\n",
    "abtem.config.set({\"visualize.cmap\": \"viridis\"})\n",
    "abtem.config.set({\"visualize.continuous_update\": True})\n",
    "abtem.config.set({\"visualize.autoscale\": True})\n",
    "\n",
    "all_measurements = abtem.from_zarr(\"data/processed_STEM.zarr\")"
   ]
  },
  {
   "cell_type": "code",
   "execution_count": 12,
   "id": "3e3d8994-459e-49d8-ab1e-c8ca2efab8f2",
   "metadata": {},
   "outputs": [
    {
     "name": "stdout",
     "output_type": "stream",
     "text": [
      "[########################################] | 100% Completed | 103.55 ms\n"
     ]
    },
    {
     "data": {
      "application/vnd.jupyter.widget-view+json": {
       "model_id": "aebe6b1c6e0c4bf2afe222d85edb8b16",
       "version_major": 2,
       "version_minor": 0
      },
      "text/plain": [
       "ImageGUI(children=(VBox(children=(SelectionSlider(options=('Nyquist-sampled', 'Interpolated', 'Blurred', 'Nois…"
      ]
     },
     "metadata": {},
     "output_type": "display_data"
    }
   ],
   "source": [
    "#| label: app:stem_processing\n",
    "viz = all_measurements.show(interact=True, explode=(1,), figsize=(5,5))"
   ]
  },
  {
   "cell_type": "code",
   "execution_count": null,
   "id": "44381286-90b4-4570-9144-01ca47d653b8",
   "metadata": {},
   "outputs": [],
   "source": []
  }
 ],
 "metadata": {
  "kernelspec": {
   "display_name": "Python 3 (ipykernel)",
   "language": "python",
   "name": "python3"
  },
  "language_info": {
   "codemirror_mode": {
    "name": "ipython",
    "version": 3
   },
   "file_extension": ".py",
   "mimetype": "text/x-python",
   "name": "python",
   "nbconvert_exporter": "python",
   "pygments_lexer": "ipython3",
   "version": "3.11.9"
  }
 },
 "nbformat": 4,
 "nbformat_minor": 5
}
