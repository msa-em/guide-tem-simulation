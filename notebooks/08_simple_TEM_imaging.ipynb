{
 "cells": [
  {
   "cell_type": "markdown",
   "id": "43989778-1e53-41ff-8eb2-0a8eda0396e0",
   "metadata": {},
   "source": [
    "---\n",
    "title: Simple TEM Imaging and Diffraction\n",
    "authors: [Toma Susi]\n",
    "date: 2024/09/06\n",
    "---"
   ]
  },
  {
   "cell_type": "markdown",
   "id": "b21a4a21-704b-4211-b054-249fad051ed4",
   "metadata": {},
   "source": [
    "### Imports"
   ]
  },
  {
   "cell_type": "code",
   "execution_count": 1,
   "id": "ea2caf65-58e9-43b2-987b-0d740a55317d",
   "metadata": {},
   "outputs": [],
   "source": [
    "import abtem\n",
    "import ase\n",
    "import matplotlib.pyplot as plt\n",
    "import numpy as np\n",
    "\n",
    "abtem.config.set({\"visualize.cmap\": \"viridis\"})\n",
    "abtem.config.set({\"visualize.continuous_update\": True})\n",
    "abtem.config.set({\"visualize.autoscale\": True})\n",
    "#abtem.config.set({\"visualize.reciprocal_space_units\": \"mrad\"})\n",
    "abtem.config.set({\"device\": \"cpu\"})\n",
    "abtem.config.set({\"fft\": \"fftw\"});\n",
    "\n",
    "from matplotlib.patches import Circle\n",
    "from ipywidgets import HBox, VBox, widgets, interact, Dropdown, Label, Layout"
   ]
  },
  {
   "cell_type": "markdown",
   "id": "2ee3a8e9-5dcb-4eb3-852c-17364c40b44f",
   "metadata": {},
   "source": [
    "### Atomic Model"
   ]
  },
  {
   "cell_type": "markdown",
   "id": "8fe640f4-264a-4ed4-9a70-eec6e9d39a44",
   "metadata": {},
   "source": [
    "To start running image simulations, we need an atomic model. Creating an atomic model was covered in the previous tutorial, so if you do not have the file \"sto_lto.cif\", please run that notebook first."
   ]
  },
  {
   "cell_type": "code",
   "execution_count": 2,
   "id": "8426333c-d25d-4fec-89cd-3b7d8832186c",
   "metadata": {},
   "outputs": [],
   "source": [
    "atoms = ase.io.read(\"data/sto_lto.cif\")"
   ]
  },
  {
   "cell_type": "markdown",
   "id": "96180a36-50f5-4f92-a4bb-1298f2b8b34b",
   "metadata": {},
   "source": [
    "### abTEM potential"
   ]
  },
  {
   "cell_type": "markdown",
   "id": "c55fac84-3011-4a5c-bd4d-8669d85d5107",
   "metadata": {},
   "source": [
    "We use the indepedent atom model (IAM) to create the electrostatic potential of the sample. In this standard approximation, the potential is a superposition of parameterized isolated atomic potentials. More information on potentials in *ab*TEM may be found online [walkthrough](https://abtem.github.io/doc/user_guide/walkthrough/potentials.html).\n",
    "\n",
    "The default parametrization is the one by Lobato, though also Kirkland and Peng are available. For most practical purposes, the differences are minor."
   ]
  },
  {
   "cell_type": "markdown",
   "id": "478c2722-aa0a-4256-a5f3-e17ccbd361a6",
   "metadata": {},
   "source": [
    "To define a `Potential`, we need to provide an ASE `Atoms` object, a sampling rate (or pixel size) in $x$ and $y$, and a slice thickness in the $z$-direction (the propagation direction).\n",
    "\n",
    "The multislice algorithm is only accurate in the limit of good (small) sampling rate and thin slices, but improving these parameters also increases computational cost. A sensible value for the sampling is between $\\mathrm{0.05} \\ \\mathrm{Å}$ and $0.02 \\ \\mathrm{Å}$, and the slice thickness is typically between $1.0 \\ \\mathrm{Å}$ and $0.025 \\ \\mathrm{Å}$, though the value of $2.0 \\ \\mathrm{Å}$ used here may suffice.\n",
    "\n",
    "Both should be treated as convergence parameters, which need to be small enough so that the simulated signal does not depend on the exact values."
   ]
  },
  {
   "cell_type": "code",
   "execution_count": 3,
   "id": "b949df4c-c2cf-40a3-b770-822ade89b3b2",
   "metadata": {
    "scrolled": true
   },
   "outputs": [
    {
     "name": "stdout",
     "output_type": "stream",
     "text": [
      "[########################################] | 100% Completed | 2.00 ss\n"
     ]
    }
   ],
   "source": [
    "potential = abtem.Potential(atoms, sampling=0.05, slice_thickness=2).build().compute()"
   ]
  },
  {
   "cell_type": "markdown",
   "id": "5eabd5e0-fbb6-4cfd-b9ea-f81905dd3d5a",
   "metadata": {},
   "source": [
    "*ab*TEM has some features for showing the simulation objects interactively. Here, we convert the potential slice to a stack of images and show the result with `interact=True`, allowing us to scroll through slices. "
   ]
  },
  {
   "cell_type": "markdown",
   "id": "d4a37bfd-6f62-4fcc-bf6a-3810fd5f5049",
   "metadata": {},
   "source": [
    "### Plane Wave"
   ]
  },
  {
   "cell_type": "markdown",
   "id": "fffcc67c-2aa4-45cf-b5ed-a2acacea4763",
   "metadata": {},
   "source": [
    "To describe a parallel illumination TEM experiment, we create a `PlaneWave` with an energy of $150 \\ \\mathrm{keV}$."
   ]
  },
  {
   "cell_type": "code",
   "execution_count": 4,
   "id": "f9087b95-1328-44a2-b5a9-398dd521e338",
   "metadata": {},
   "outputs": [],
   "source": [
    "plane_wave = abtem.PlaneWave(energy=150e3)"
   ]
  },
  {
   "cell_type": "markdown",
   "id": "2960c210-3eb7-431c-bfd4-2df4d77d2e37",
   "metadata": {},
   "source": [
    "We will show an example of how to simulate a thickness series. To do this, we have to recreate our potential with the `exit_planes` argument. We set it to one to specify that we want an output exit wave for every single slice.-"
   ]
  },
  {
   "cell_type": "code",
   "execution_count": 5,
   "id": "498ebc71-7f53-4853-8b94-ea93f503d7f0",
   "metadata": {},
   "outputs": [],
   "source": [
    "potential = abtem.Potential(atoms, sampling=0.05, slice_thickness=2, exit_planes=1)"
   ]
  },
  {
   "cell_type": "markdown",
   "id": "72f07048-204e-4724-8da7-77f72fee31ee",
   "metadata": {},
   "source": [
    "__Note__: We did not define the wave function sampling, hence it will match the potential. We do not need to match the sampling of the wavefunction to an experimental pixel size, as we can always interpolate the final result.\n",
    "\n",
    "We run the mulislice algorithm. "
   ]
  },
  {
   "cell_type": "code",
   "execution_count": 6,
   "id": "e9b886c5-a78f-46b0-8e3a-0f5caf199195",
   "metadata": {},
   "outputs": [
    {
     "name": "stdout",
     "output_type": "stream",
     "text": [
      "[########################################] | 100% Completed | 1.97 ss\n"
     ]
    }
   ],
   "source": [
    "exit_wave = plane_wave.multislice(potential).compute()"
   ]
  },
  {
   "cell_type": "markdown",
   "id": "835c8537-f971-40e9-9ddf-4c8987ddb81d",
   "metadata": {},
   "source": [
    "We show the exit wave intensity - note that we omit the first slice that does not contain atoms and whose exit waves thus simply show numerical noise."
   ]
  },
  {
   "cell_type": "markdown",
   "id": "160010cd-183a-47cd-bb98-151b26c0491f",
   "metadata": {},
   "source": [
    "We now have to specify the aberrations and aperture of the objective lens, which are done via the contrast transfer function (CTF).\n",
    "\n",
    "We create a compatible `CTF` for electrons of the same energy as the plane wave of $150 \\ \\mathrm{keV}$. The spherical aberration will be set to $-20~\\mu \\mathrm{m}$ (remember that *ab*TEM uses units of $\\mathrm{Å}$) and the defocus is set to the [Scherzer defocus](https://en.wikipedia.org/wiki/High-resolution_transmission_electron_microscopy)."
   ]
  },
  {
   "cell_type": "code",
   "execution_count": 7,
   "id": "cad4d93a-782e-49c0-a4be-186d979b5cb6",
   "metadata": {},
   "outputs": [],
   "source": [
    "Cs = -20e-6 * 1e10\n",
    "\n",
    "ctf = abtem.CTF(Cs=Cs, energy=150e3)\n",
    "\n",
    "ctf.scherzer_defocus\n",
    "\n",
    "ctf.defocus = ctf.scherzer_defocus\n",
    "ctf.semiangle_cutoff = ctf.crossover_angle\n",
    "ctf.focal_spread = 30\n",
    "ctf.angular_spread = 1"
   ]
  },
  {
   "cell_type": "markdown",
   "id": "8d3f8396-f1e6-410a-a248-36d7acc27d39",
   "metadata": {},
   "source": [
    "We apply the `CTF` to the exit wave to get the wave at the detector plane."
   ]
  },
  {
   "cell_type": "code",
   "execution_count": 8,
   "id": "0278e8c0-1e7c-49d5-bef2-99fb5eff2eec",
   "metadata": {},
   "outputs": [],
   "source": [
    "image = exit_wave.apply_ctf(ctf).intensity().compute()"
   ]
  },
  {
   "cell_type": "markdown",
   "id": "8c3ea076-b346-4e49-9122-36de7b62b4b6",
   "metadata": {},
   "source": [
    "#### "
   ]
  },
  {
   "cell_type": "code",
   "execution_count": 12,
   "id": "fd12f232-8f93-4cbf-b1c6-b983e0210dbf",
   "metadata": {},
   "outputs": [
    {
     "name": "stdout",
     "output_type": "stream",
     "text": [
      "[########################################] | 100% Completed | 1.04 ss\n"
     ]
    }
   ],
   "source": [
    "%matplotlib widget\n",
    "\n",
    "with plt.ioff():\n",
    "    dpi = 72\n",
    "    fig, axs = plt.subplots(1,3, figsize=(675/dpi, 400/dpi), dpi=dpi)\n",
    "\n",
    "pots = potential.to_images()[0].show(ax=axs[0])\n",
    "wavs = exit_wave[1:][0].show(ax=axs[1])\n",
    "imgs = image[1:][0].show(ax=axs[2])\n",
    "\n",
    "### Tried to use pure imshows in case that was the issue\n",
    "#pots = axs[0].imshow(potential[0].array[0])\n",
    "#wavs = axs[1].imshow(exit_wave[1:][0].intensity().array)\n",
    "#imgs = axs[2].imshow(image[1:][0].array)\n",
    "\n",
    "axs[0].set_title('Potential')\n",
    "axs[1].set_title('Exit wave')\n",
    "axs[2].set_title('Image')\n",
    "\n",
    "axs[1].set_yticks([])\n",
    "axs[2].set_yticks([])\n",
    "axs[1].set_ylabel(\"\")\n",
    "axs[2].set_ylabel(\"\")\n",
    "\n",
    "plt.tight_layout()  \n",
    "\n",
    "# interact\n",
    "def update_images(plane):    \n",
    "    axs[0].cla()\n",
    "    axs[1].cla()\n",
    "    axs[2].cla()\n",
    "\n",
    "    pots._artists[0,0].set_data(potential[plane].array)\n",
    "    wavs._artists[0,0].set_data(exit_wave[1:][plane].array)\n",
    "    imgs._artists[0,0].set_data(image[1:][plane].array)\n",
    "\n",
    "    ### This syntax should work but I couldn't get a widget that updates\n",
    "    #pots.set_data(potential[plane].array[0])\n",
    "    #wavs.set_data(exit_wave[1:][plane].intensity().array)\n",
    "    #imgs.set_data(image[1:][plane].array)\n",
    "\n",
    "    fig.canvas.draw_idle()\n",
    "    return None\n",
    "\n",
    "style = {\n",
    "    'description_width': 'initial',\n",
    "}\n",
    "\n",
    "layout = Layout(width='250px',height='30px')\n",
    "\n",
    "plane = widgets.IntSlider(\n",
    "    value = 0, max = len(potential),\n",
    "    step = 1,\n",
    "    description = \"Slice\",\n",
    "    style = style,\n",
    "    layout = layout,\n",
    ")\n",
    "\n",
    "widgets.interactive_output(\n",
    "    update_images, \n",
    "    {\n",
    "        'Slice':plane,\n",
    "    },\n",
    ")\n",
    "\n",
    "fig.canvas.resizable = False\n",
    "fig.canvas.header_visible = False\n",
    "fig.canvas.footer_visible = False\n",
    "fig.canvas.toolbar_visible = True\n",
    "fig.canvas.layout.width = '675px'\n",
    "fig.canvas.layout.height = '400px'\n",
    "fig.canvas.toolbar_position = 'bottom'\n",
    "\n",
    "widget = widgets.VBox(\n",
    "    [\n",
    "        fig.canvas,\n",
    "            HBox(\n",
    "                [plane]\n",
    "            )\n",
    "    ],\n",
    ")"
   ]
  },
  {
   "cell_type": "code",
   "execution_count": 13,
   "id": "e23e1caa-d087-492c-b58c-2c0cd05cbf53",
   "metadata": {},
   "outputs": [
    {
     "data": {
      "application/vnd.jupyter.widget-view+json": {
       "model_id": "19aa84d8487641178aad01a3be95e73c",
       "version_major": 2,
       "version_minor": 0
      },
      "text/plain": [
       "VBox(children=(Canvas(footer_visible=False, header_visible=False, layout=Layout(height='400px', width='675px')…"
      ]
     },
     "metadata": {},
     "output_type": "display_data"
    }
   ],
   "source": [
    "#| label: app:tem_potential_wave_image\n",
    "\n",
    "display(widget);"
   ]
  },
  {
   "cell_type": "code",
   "execution_count": null,
   "id": "f2f7f1cd-20dd-4081-93d3-bad9ef653fca",
   "metadata": {},
   "outputs": [],
   "source": []
  }
 ],
 "metadata": {
  "kernelspec": {
   "display_name": "guide-tem-simulation",
   "language": "python",
   "name": "guide-tem-simulation"
  },
  "language_info": {
   "codemirror_mode": {
    "name": "ipython",
    "version": 3
   },
   "file_extension": ".py",
   "mimetype": "text/x-python",
   "name": "python",
   "nbconvert_exporter": "python",
   "pygments_lexer": "ipython3",
   "version": "3.11.9"
  }
 },
 "nbformat": 4,
 "nbformat_minor": 5
}
