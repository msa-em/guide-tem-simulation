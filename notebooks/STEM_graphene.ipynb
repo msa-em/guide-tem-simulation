{
 "cells": [
  {
   "cell_type": "markdown",
   "id": "7ab76fef-841a-48b7-8e56-fc9c506d4a71",
   "metadata": {},
   "source": [
    "---\n",
    "title: Interactive STEM convergence angle\n",
    "author: Stephanie Ribet\n",
    "date: 2023/08/27\n",
    "---"
   ]
  },
  {
   "cell_type": "code",
   "execution_count": 26,
   "id": "546d1271-a5c0-448f-8c39-8ece14655080",
   "metadata": {},
   "outputs": [
    {
     "name": "stdout",
     "output_type": "stream",
     "text": [
      "[########################################] | 100% Completed | 422.52 ms\n"
     ]
    },
    {
     "data": {
      "application/vnd.jupyter.widget-view+json": {
       "model_id": "23fb4f8fc6f2413381687235297e0bbf",
       "version_major": 2,
       "version_minor": 0
      },
      "text/plain": [
       "VBox(children=(Canvas(toolbar=Toolbar(toolitems=[('Home', 'Reset original view', 'home', 'home'), ('Back', 'Ba…"
      ]
     },
     "metadata": {},
     "output_type": "display_data"
    }
   ],
   "source": [
    "#| label: app:stem_graphene\n",
    "\n",
    "%matplotlib widget\n",
    "\n",
    "import numpy as np\n",
    "import matplotlib.pyplot as plt\n",
    "\n",
    "from IPython.display import display\n",
    "from ipywidgets import VBox, interact,IntSlider, Layout, widgets\n",
    "import abtem\n",
    "from ase.io import read\n",
    "from scipy.ndimage import gaussian_filter\n",
    "\n",
    "#build cell\n",
    "C = read('notebooks/data/C.cif')\n",
    "C = abtem.orthogonalize_cell(C)\n",
    "C = C * (28, 16, 1)\n",
    "del C[C.positions[:,2 ]>3]\n",
    "C.center(vacuum = 0)\n",
    "C.center(vacuum = 3, axis = 2)\n",
    "\n",
    "#simulate\n",
    "potential = abtem.Potential(\n",
    "    C, sampling=0.2, projection = \"finite\"\n",
    ")\n",
    "probe = abtem.Probe(\n",
    "    energy=80e3, \n",
    "    semiangle_cutoff=2\n",
    ")\n",
    "probe.grid.match(potential)\n",
    "point_scan = abtem.CustomScan((15,15))\n",
    "measurement = probe.scan(potential, detectors=abtem.PixelatedDetector(max_angle=\"valid\"), scan=point_scan).compute();\n",
    "probe_show = np.abs(probe.build().array)**2\n",
    "\n",
    "#show\n",
    "with plt.ioff():\n",
    "    fig = plt.figure(figsize = (6,3))\n",
    "    \n",
    "ax0 = fig.add_axes([0.05,  0.15,  0.35, 0.75])\n",
    "ax1 = fig.add_axes([0.55,  0.15,  0.35, 0.75])\n",
    "im0 = ax0.imshow(\n",
    "    measurement.array[0] ** 0.5, \n",
    "    cmap = \"turbo\"\n",
    ")\n",
    "\n",
    "im1 = ax1.imshow(probe_show, cmap = \"gray\")\n",
    "ax1.set_xticks([]);\n",
    "ax1.set_yticks([]);\n",
    "\n",
    "ax0.set_xticks([]);\n",
    "ax0.set_yticks([]);\n",
    "\n",
    "ax0.set_title('graphene diffraction pattern');\n",
    "ax1.set_title('probe real space intensity');\n",
    "\n",
    "\n",
    "\n",
    "def update_ims(convergence_angle):\n",
    "    probe = abtem.Probe(\n",
    "        energy=80e3, \n",
    "        semiangle_cutoff=convergence_angle\n",
    "    )\n",
    "    probe.grid.match(potential)\n",
    "    point_scan = abtem.CustomScan((15,15))\n",
    "    measurement = probe.scan(potential, detectors=abtem.PixelatedDetector(max_angle=\"valid\"), scan=point_scan).compute();\n",
    "    probe_show = np.abs(probe.build().array)**2\n",
    "\n",
    "    \n",
    "    im0.set_data(\n",
    "        measurement.array[0] ** 0.5,\n",
    "    )\n",
    "    im0.set_clim(\n",
    "        vmax = (measurement.array[0]** 0.5).max(), \n",
    "        vmin = (measurement.array[0]**0.5).min()\n",
    "    )\n",
    "    im1.set_data(probe_show)\n",
    "    im1.set_clim(\n",
    "        vmax = probe_show.max(), \n",
    "        vmin = probe_show.min()\n",
    "    )\n",
    "\n",
    "    fig.canvas.draw_idle()\n",
    "\n",
    "style = {\n",
    "    'description_width': 'initial',\n",
    "}\n",
    "\n",
    "convergence_angle = IntSlider(\n",
    "    value = 2, min = 2, max = 30, \n",
    "    step = 1,\n",
    "    description = \"convergence angle (mrad)\",\n",
    "    style = style\n",
    ")\n",
    "\n",
    "\n",
    "widgets.interactive_output(\n",
    "    update_ims, \n",
    "    {'convergence_angle':convergence_angle},\n",
    ")\n",
    "\n",
    "\n",
    "widget = VBox(\n",
    "    [\n",
    "        fig.canvas,\n",
    "        convergence_angle\n",
    "    ],\n",
    ")\n",
    "\n",
    "display(widget);"
   ]
  }
 ],
 "metadata": {
  "kernelspec": {
   "display_name": "Python 3 (ipykernel)",
   "language": "python",
   "name": "python3"
  },
  "language_info": {
   "codemirror_mode": {
    "name": "ipython",
    "version": 3
   },
   "file_extension": ".py",
   "mimetype": "text/x-python",
   "name": "python",
   "nbconvert_exporter": "python",
   "pygments_lexer": "ipython3",
   "version": "3.11.4"
  }
 },
 "nbformat": 4,
 "nbformat_minor": 5
}
