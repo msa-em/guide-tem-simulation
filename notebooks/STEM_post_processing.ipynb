{
 "cells": [
  {
   "cell_type": "markdown",
   "id": "4e05c48d-a101-4670-bd06-aa261a12532f",
   "metadata": {},
   "source": [
    "---\n",
    "title: STEM post processing\n",
    "authors: [Toma Susi]\n",
    "date: 2024/07/24\n",
    "---"
   ]
  },
  {
   "cell_type": "code",
   "execution_count": 540,
   "id": "744695c6-083f-486e-a6fb-7cb959c49637",
   "metadata": {},
   "outputs": [
    {
     "name": "stdout",
     "output_type": "stream",
     "text": [
      "[########################################] | 100% Completed | 104.34 ms\n"
     ]
    },
    {
     "data": {
      "application/vnd.jupyter.widget-view+json": {
       "model_id": "873e219d1106426a9c3c5bc5ed1771cb",
       "version_major": 2,
       "version_minor": 0
      },
      "text/plain": [
       "ImageGUI(children=(VBox(children=(SelectionSlider(options=('Nyquist-sampled', 'Interpolated', 'Blurred', 'Nois…"
      ]
     },
     "metadata": {},
     "output_type": "display_data"
    },
    {
     "data": {
      "text/plain": [
       "<abtem.visualize.visualizations.Visualization at 0x30a3a1430>"
      ]
     },
     "execution_count": 540,
     "metadata": {},
     "output_type": "execute_result"
    }
   ],
   "source": [
    "#| label: app:stem_processing\n",
    "\n",
    "%matplotlib ipympl\n",
    "abtem.config.set({\"visualize.cmap\": \"viridis\"})\n",
    "abtem.config.set({\"visualize.continuous_update\": True})\n",
    "abtem.config.set({\"visualize.autoscale\": True})\n",
    "\n",
    "import abtem\n",
    "\n",
    "all_measurements = abtem.from_zarr(\"data/processed_STEM.zarr\")\n",
    "\n",
    "all_measurements.show(interact=True, cbar=True)"
   ]
  },
  {
   "cell_type": "code",
   "execution_count": null,
   "id": "3e3d8994-459e-49d8-ab1e-c8ca2efab8f2",
   "metadata": {},
   "outputs": [],
   "source": []
  }
 ],
 "metadata": {
  "kernelspec": {
   "display_name": "guide-tem-simulation",
   "language": "python",
   "name": "guide-tem-simulation"
  },
  "language_info": {
   "codemirror_mode": {
    "name": "ipython",
    "version": 3
   },
   "file_extension": ".py",
   "mimetype": "text/x-python",
   "name": "python",
   "nbconvert_exporter": "python",
   "pygments_lexer": "ipython3",
   "version": "3.12.4"
  }
 },
 "nbformat": 4,
 "nbformat_minor": 5
}
