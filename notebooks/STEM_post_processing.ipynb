{
 "cells": [
  {
   "cell_type": "markdown",
   "id": "4e05c48d-a101-4670-bd06-aa261a12532f",
   "metadata": {},
   "source": [
    "STEM post processing widget\n",
    "\n",
    "Stephanie Ribet\n",
    "\n",
    "June 2023\n",
    "\n",
    "TODO: re run simulations with frozen phonons\n",
    "\n",
    "Data: [3D array](https://drive.google.com/file/d/1MtO_pYm-d4gZ__XQTF3p--RK2_HqkGM2/view?usp=sharing), \n",
    "[DPC](https://drive.google.com/file/d/1Mt8KOIxw4u5I7PvbQwjPDrevf8JJZVCP/view?usp=sharing)"
   ]
  },
  {
   "cell_type": "code",
   "execution_count": 1,
   "id": "8efdd632-53df-4a08-ab7a-ae959a8bfbd2",
   "metadata": {},
   "outputs": [],
   "source": [
    "%matplotlib widget"
   ]
  },
  {
   "cell_type": "code",
   "execution_count": 2,
   "id": "7403ddb2-0691-4b8d-b2ef-98e31ef2ffb5",
   "metadata": {},
   "outputs": [],
   "source": [
    "import numpy as np\n",
    "import matplotlib.pyplot as plt"
   ]
  },
  {
   "cell_type": "code",
   "execution_count": 3,
   "id": "69980801-788b-4782-8cf6-a1e0415ce9bd",
   "metadata": {},
   "outputs": [],
   "source": [
    "from IPython.display import display\n",
    "from ipywidgets import HBox, VBox, widgets, interact, Dropdown, Label\n",
    "# from ipywidgets import widgets, interact, GridspecLayout, Layout,  Layout, Label, \n",
    "from matplotlib import cm\n",
    "from ipywidgets import AppLayout, FloatSlider, FloatLogSlider, Layout\n",
    "import h5py\n",
    "from abtem.utils import fft_interpolate_2d\n",
    "# from py4DSTEM.visualize import Complex2RGB"
   ]
  },
  {
   "cell_type": "code",
   "execution_count": 4,
   "id": "e51298af-f15c-4525-b80b-e7172ce62e0c",
   "metadata": {},
   "outputs": [],
   "source": [
    "hf = h5py.File('STO_DPC.h5', 'r')\n",
    "DPC = hf.get('DPC')[:]\n",
    "hf.close()"
   ]
  },
  {
   "cell_type": "code",
   "execution_count": 5,
   "id": "cca81a18-fa75-4fe1-a39e-4f08f025ac7e",
   "metadata": {},
   "outputs": [],
   "source": [
    "hf = h5py.File('STO_3D.h5', 'r')\n",
    "array_3D = hf.get('3D')[:]\n",
    "hf.close()"
   ]
  },
  {
   "cell_type": "code",
   "execution_count": 6,
   "id": "cdf7afd7-2e4f-4772-aaef-dbfb14e5e151",
   "metadata": {},
   "outputs": [],
   "source": [
    "array_3D = np.squeeze(array_3D)"
   ]
  },
  {
   "cell_type": "code",
   "execution_count": 7,
   "id": "3cd0f170-594c-4f3f-bf4d-21eb9782803b",
   "metadata": {},
   "outputs": [],
   "source": [
    "qx = np.fft.fftfreq(array_3D.shape[2] * 2, 1/array_3D.shape[2]/2)\n",
    "qy = np.fft.fftfreq(array_3D.shape[2] * 2, 1/array_3D.shape[2]/2)\n",
    "qya, qxa = np.meshgrid(qx, qy)\n",
    "qra = np.fft.fftshift(np.sqrt(qxa**2 + qya **2))"
   ]
  },
  {
   "cell_type": "code",
   "execution_count": 10,
   "id": "9e0abae5-dfc9-4650-893e-d50d0b40795f",
   "metadata": {},
   "outputs": [
    {
     "data": {
      "application/vnd.jupyter.widget-view+json": {
       "model_id": "0d582a6134e14b6b87fdfa17a23d0b39",
       "version_major": 2,
       "version_minor": 0
      },
      "text/plain": [
       "VBox(children=(Canvas(toolbar=Toolbar(toolitems=[('Home', 'Reset original view', 'home', 'home'), ('Back', 'Ba…"
      ]
     },
     "execution_count": 10,
     "metadata": {},
     "output_type": "execute_result"
    }
   ],
   "source": [
    "with plt.ioff():\n",
    "    fig = plt.figure(figsize = (9,3))\n",
    "\n",
    "ax0 = fig.add_axes([0.04,  0.05,  0.28, 0.75])\n",
    "ax1 = fig.add_axes([0.37,  0.05,  0.28, 0.75])\n",
    "ax2 = fig.add_axes([0.70,  0.05,  0.28, 0.75])\n",
    "ax3 = fig.add_axes([0.039,  0.6,  0.1, 0.2])\n",
    "ax4 = fig.add_axes([0.369,  0.6,  0.1, 0.2])\n",
    "\n",
    "cmap = 'gray'\n",
    "tile = 3\n",
    "\n",
    "im0 = ax0.imshow(\n",
    "        np.tile(array_3D[:,:,0:22].sum(2),(tile,tile)), \n",
    "    cmap = cmap)\n",
    "im1 = ax1.imshow(\n",
    "        np.tile(array_3D[:,:,22:100].sum(2),(tile,tile)), \n",
    "    cmap = cmap)\n",
    "im2 = ax2.imshow(\n",
    "    np.tile(DPC, (tile,tile)),\n",
    "    cmap = cmap)\n",
    "\n",
    "cmap2 = \"YlGn_r\"\n",
    "im3 = ax3.imshow(\n",
    "    qra < 22,\n",
    "    cmap = cmap2,\n",
    "    vmax = 1.5, \n",
    "    vmin = -0.5\n",
    ")\n",
    "\n",
    "im4 = ax4.imshow(\n",
    "    np.logical_and(qra > 22, qra < 200),\n",
    "    cmap = cmap2,\n",
    "    vmax = 1.5, \n",
    "    vmin = -0.5\n",
    ")\n",
    "\n",
    "ax0.set_xticks([])  \n",
    "ax0.set_yticks([]) \n",
    "ax1.set_xticks([])  \n",
    "ax1.set_yticks([]) \n",
    "ax2.set_xticks([])  \n",
    "ax2.set_yticks([]) \n",
    "ax3.set_xticks([])  \n",
    "ax3.set_yticks([]) \n",
    "ax4.set_xticks([])  \n",
    "ax4.set_yticks([]) \n",
    "\n",
    "ax0.set_title('Circular virtual image');\n",
    "ax1.set_title('Annular virtual image');\n",
    "ax2.set_title('DPC reconstruction');\n",
    "\n",
    "def update_ims(BF_radius, DF_radius_1, DF_radius_2):\n",
    "    \n",
    "    BF = np.tile(array_3D[:,:,0:BF_radius].sum(2),(tile,tile))\n",
    "    im0.set_data(BF)\n",
    "    im0.set_clim(vmax = BF.max(), vmin = BF.min())\n",
    "    DF = np.tile(array_3D[:,:,DF_radius_1:DF_radius_2].sum(2),(tile,tile))\n",
    "    im1.set_data(DF)\n",
    "    im1.set_clim(vmax = DF.max(), vmin = DF.min())\n",
    "    im3.set_data(qra < BF_radius)\n",
    "    im4.set_data(np.logical_and(qra > DF_radius_1, qra < DF_radius_2))\n",
    "\n",
    "    fig.canvas.draw_idle()\n",
    "\n",
    "style = {\n",
    "    'description_width': 'initial',\n",
    "}\n",
    "\n",
    "BF_radius = widgets.IntSlider(\n",
    "    value = 22, min = 0, max =200, \n",
    "    step = 1,\n",
    "    description = \"BF radius (mrad)\",\n",
    "    style = style\n",
    ")\n",
    "\n",
    "\n",
    "DF_radius_1 = widgets.IntSlider(\n",
    "    value = 22, min = 0, max = 200, \n",
    "    step = 1,\n",
    "    description = \"DF inner radius (mrad)\",\n",
    "    style = style\n",
    ")\n",
    "\n",
    "\n",
    "DF_radius_2 = widgets.IntSlider(\n",
    "    value = 100, min = 0, max = 200, \n",
    "    step = 1,\n",
    "    description = \"DF outer radius (mrad)\",\n",
    "    style = style\n",
    ")\n",
    "\n",
    "widgets.interactive_output(\n",
    "    update_ims, \n",
    "    {\n",
    "        'BF_radius':BF_radius,\n",
    "        'DF_radius_1':DF_radius_1,\n",
    "        'DF_radius_2':DF_radius_2,\n",
    "    },\n",
    ")\n",
    "\n",
    "\n",
    "\n",
    "option_list = (\n",
    "    'select an option',\n",
    "    'BF',\n",
    "    'ABF',\n",
    "    'ADF',\n",
    "    'HAADF',\n",
    ")\n",
    "\n",
    "# update the plots with a pre-selected function\n",
    "def select_preset_eventhandler(change):\n",
    "    if change.new == option_list[1]: #BF\n",
    "        BF_radius.value = 22\n",
    "    \n",
    "    if change.new == option_list[2]: #ABF\n",
    "        DF_radius_1.value = 7\n",
    "        DF_radius_2.value = 20\n",
    "        \n",
    "    if change.new == option_list[3]: #ADF\n",
    "        DF_radius_1.value = 50\n",
    "        DF_radius_2.value = 120\n",
    "    \n",
    "    if change.new == option_list[4]: #HAADF\n",
    "        DF_radius_1.value = 90\n",
    "        DF_radius_2.value = 200\n",
    "            \n",
    "# Widgets\n",
    "dropdown = Dropdown(\n",
    "    options = option_list,\n",
    "    layout = Layout(width='200px',height='30px'),\n",
    ")\n",
    "dropdown.observe(select_preset_eventhandler, names='value')\n",
    "\n",
    "widgets.VBox(\n",
    "    [\n",
    "        fig.canvas,\n",
    "        HBox([\n",
    "            BF_radius, \n",
    "            VBox([DF_radius_1,DF_radius_2]),\n",
    "            dropdown\n",
    "        ]),\n",
    "    ],\n",
    ")\n"
   ]
  },
  {
   "cell_type": "code",
   "execution_count": 11,
   "id": "054d0c3f-946a-427a-99ac-d352df12e646",
   "metadata": {},
   "outputs": [
    {
     "data": {
      "text/plain": [
       "(32, 32, 263)"
      ]
     },
     "execution_count": 11,
     "metadata": {},
     "output_type": "execute_result"
    }
   ],
   "source": [
    "array_3D.shape"
   ]
  },
  {
   "cell_type": "code",
   "execution_count": null,
   "id": "74270c13-c62b-4ad5-8014-b7294b4e6c7e",
   "metadata": {},
   "outputs": [],
   "source": []
  }
 ],
 "metadata": {
  "kernelspec": {
   "display_name": "Python 3 (ipykernel)",
   "language": "python",
   "name": "python3"
  },
  "language_info": {
   "codemirror_mode": {
    "name": "ipython",
    "version": 3
   },
   "file_extension": ".py",
   "mimetype": "text/x-python",
   "name": "python",
   "nbconvert_exporter": "python",
   "pygments_lexer": "ipython3",
   "version": "3.11.0"
  }
 },
 "nbformat": 4,
 "nbformat_minor": 5
}
