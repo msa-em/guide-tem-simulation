{
 "cells": [
  {
   "cell_type": "markdown",
   "id": "7a3a4bfa-cc68-4624-9965-0e2dbb65061d",
   "metadata": {},
   "source": [
    "# STO-LTO model creation\n",
    "\n",
    "authors: [Toma Susi]\n",
    "date: 2024/09/02"
   ]
  },
  {
   "cell_type": "code",
   "execution_count": null,
   "id": "95c10e75-d7d3-40fa-a127-142d5f84438d",
   "metadata": {},
   "outputs": [],
   "source": [
    "import abtem\n",
    "import ase\n",
    "import matplotlib.pyplot as plt\n",
    "import numpy as np\n",
    "\n",
    "from ase.build import surface\n",
    "\n",
    "srtio3 = ase.io.read(\"data/SrTiO3.cif\")\n",
    "\n",
    "srtio3_110 = surface(srtio3, indices=(1, 1, 0), layers=2, periodic=True)\n",
    "srtio3_110.wrap()\n",
    "\n",
    "repeated_srtio3 = srtio3_110.copy()\n",
    "repeated_srtio3 *= (3, 4, 10)"
   ]
  },
  {
   "cell_type": "code",
   "execution_count": null,
   "id": "ceddcd58-e901-4ad8-b599-2a616854d072",
   "metadata": {},
   "outputs": [],
   "source": [
    "sto_lto = repeated_srtio3.copy()\n",
    "\n",
    "mask = sto_lto.symbols == \"Sr\"\n",
    "\n",
    "mask = mask * (sto_lto.positions[:, 1] < 7.5)\n",
    "\n",
    "sto_lto.numbers[mask] = 57\n",
    "\n",
    "ase.io.write(\"data/sto_lto.cif\", sto_lto)"
   ]
  },
  {
   "cell_type": "code",
   "execution_count": null,
   "id": "23163094-afba-4bb7-8de8-1e8c3f92f92a",
   "metadata": {},
   "outputs": [],
   "source": []
  }
 ],
 "metadata": {
  "kernelspec": {
   "display_name": "guide-tem-simulation",
   "language": "python",
   "name": "guide-tem-simulation"
  },
  "language_info": {
   "codemirror_mode": {
    "name": "ipython",
    "version": 3
   },
   "file_extension": ".py",
   "mimetype": "text/x-python",
   "name": "python",
   "nbconvert_exporter": "python",
   "pygments_lexer": "ipython3",
   "version": "3.11.9"
  }
 },
 "nbformat": 4,
 "nbformat_minor": 5
}
