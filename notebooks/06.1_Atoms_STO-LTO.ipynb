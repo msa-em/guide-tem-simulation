{
 "cells": [
  {
   "cell_type": "markdown",
   "id": "7a3a4bfa-cc68-4624-9965-0e2dbb65061d",
   "metadata": {},
   "source": [
    "# STO-LTO model creation\n",
    "\n",
    "authors: [Toma Susi]\n",
    "date: 2024/09/02"
   ]
  },
  {
   "cell_type": "code",
   "execution_count": 108,
   "id": "95c10e75-d7d3-40fa-a127-142d5f84438d",
   "metadata": {},
   "outputs": [],
   "source": [
    "import abtem\n",
    "import ase\n",
    "import matplotlib.pyplot as plt\n",
    "import numpy as np\n",
    "\n",
    "from ase.build import surface\n",
    "\n",
    "srtio3 = ase.io.read(\"data/SrTiO3.cif\")\n",
    "\n",
    "srtio3_110 = surface(srtio3, indices=(1, 1, 0), layers=2, periodic=True)\n",
    "srtio3_110.wrap()\n",
    "\n",
    "repeated_srtio3 = srtio3_110.copy()\n",
    "repeated_srtio3 *= (3, 4, 10)"
   ]
  },
  {
   "cell_type": "code",
   "execution_count": 103,
   "id": "95f90081-91d8-4eb2-9dd9-b56742137669",
   "metadata": {},
   "outputs": [],
   "source": [
    "%matplotlib ipympl\n",
    "from IPython.display import display\n",
    "import ipywidgets\n",
    "\n",
    "# widget figure generation\n",
    "with plt.ioff():\n",
    "    dpi = 72\n",
    "    fig, (ax1,ax2) = plt.subplots(1,2,figsize=(675/dpi, 300/dpi), dpi=dpi)\n",
    "\n",
    "supercell = srtio3_110.copy()\n",
    "supercell.center(2, axis=2)\n",
    "\n",
    "top = abtem.show_atoms(supercell, ax=ax1, show_periodic=True)\n",
    "beam = abtem.show_atoms(supercell, ax=ax2, plane='xz', show_periodic=True, legend=True)\n",
    "ax1.set_title(\"Top view\")\n",
    "ax2.set_title(\"Beam view\")\n",
    "\n",
    "fig.tight_layout()\n",
    "\n",
    "fig.canvas.resizable = False\n",
    "fig.canvas.header_visible = False\n",
    "fig.canvas.footer_visible = False\n",
    "fig.canvas.toolbar_visible = True\n",
    "fig.canvas.layout.width = '675px'\n",
    "fig.canvas.layout.height = '330px'\n",
    "fig.canvas.toolbar_position = 'bottom'"
   ]
  },
  {
   "cell_type": "code",
   "execution_count": 104,
   "id": "5d0aeebf-ee62-40fb-a9ed-80f18db8343c",
   "metadata": {},
   "outputs": [],
   "source": [
    "def update_atoms(x, y, z):\n",
    "    ax1.cla()\n",
    "    ax2.cla()\n",
    "    supercell = srtio3_110*(x,y,z)\n",
    "    supercell.center(2, axis=2)\n",
    "    top = abtem.show_atoms(supercell, ax=ax1, show_periodic=True)\n",
    "    beam = abtem.show_atoms(supercell, ax=ax2, plane='xz', show_periodic=True, legend=True)\n",
    "    fig.canvas.draw_idle()\n",
    "    return None"
   ]
  },
  {
   "cell_type": "code",
   "execution_count": 105,
   "id": "ad7fa665-3417-4c8d-ac8b-9a4f2cb445af",
   "metadata": {},
   "outputs": [],
   "source": [
    "style = {\n",
    "    'description_width': 'initial',\n",
    "}\n",
    "\n",
    "sliderx = ipywidgets.IntSlider(\n",
    "    orientation='horizontal',\n",
    "    description='x repetitions: ',\n",
    "    value=1,\n",
    "    min=1,\n",
    "    max=10,\n",
    "    style = style,\n",
    ")\n",
    "\n",
    "slidery = ipywidgets.IntSlider(\n",
    "    orientation='horizontal',\n",
    "    description='y repetitions: ',\n",
    "    value=1,\n",
    "    min=1,\n",
    "    max=10,\n",
    "    style = style,\n",
    ")\n",
    "\n",
    "sliderz = ipywidgets.IntSlider(\n",
    "    orientation='horizontal',\n",
    "    description='z repetitions: ',\n",
    "    value=1,\n",
    "    min=1,\n",
    "    max=10,\n",
    "    style = style,\n",
    ")\n",
    "\n",
    "ipywidgets.interactive_output(\n",
    "    update_atoms, \n",
    "    {\n",
    "        'x':sliderx,\n",
    "        'y':slidery,\n",
    "        'z':sliderz,\n",
    "    },\n",
    ")\n",
    "None"
   ]
  },
  {
   "cell_type": "code",
   "execution_count": 106,
   "id": "f7da1ef3-9a6a-4726-b9b8-da3938e02a11",
   "metadata": {},
   "outputs": [
    {
     "data": {
      "application/vnd.jupyter.widget-view+json": {
       "model_id": "cb3eaaca2eb4430083cdee3cd89c6dcb",
       "version_major": 2,
       "version_minor": 0
      },
      "text/plain": [
       "VBox(children=(Canvas(footer_visible=False, header_visible=False, layout=Layout(height='330px', width='675px')…"
      ]
     },
     "metadata": {},
     "output_type": "display_data"
    }
   ],
   "source": [
    "#| label: app:sto_supercell\n",
    "\n",
    "widget = ipywidgets.VBox(\n",
    "    [\n",
    "        fig.canvas,\n",
    "            ipywidgets.VBox([\n",
    "                sliderx,\n",
    "                slidery,\n",
    "                sliderz,\n",
    "            ]),\n",
    "    ],\n",
    ")\n",
    "\n",
    "display(widget);"
   ]
  },
  {
   "cell_type": "code",
   "execution_count": 107,
   "id": "ceddcd58-e901-4ad8-b599-2a616854d072",
   "metadata": {},
   "outputs": [],
   "source": [
    "sto_lto = repeated_srtio3.copy()\n",
    "\n",
    "mask = sto_lto.symbols == \"Sr\"\n",
    "\n",
    "mask = mask * (sto_lto.positions[:, 1] < 7.5)\n",
    "\n",
    "sto_lto.numbers[mask] = 57\n",
    "\n",
    "ase.io.write(\"data/sto_lto.cif\", sto_lto)"
   ]
  },
  {
   "cell_type": "code",
   "execution_count": null,
   "id": "23163094-afba-4bb7-8de8-1e8c3f92f92a",
   "metadata": {},
   "outputs": [],
   "source": []
  }
 ],
 "metadata": {
  "kernelspec": {
   "display_name": "guide-tem-simulation",
   "language": "python",
   "name": "guide-tem-simulation"
  },
  "language_info": {
   "codemirror_mode": {
    "name": "ipython",
    "version": 3
   },
   "file_extension": ".py",
   "mimetype": "text/x-python",
   "name": "python",
   "nbconvert_exporter": "python",
   "pygments_lexer": "ipython3",
   "version": "3.11.9"
  }
 },
 "nbformat": 4,
 "nbformat_minor": 5
}
